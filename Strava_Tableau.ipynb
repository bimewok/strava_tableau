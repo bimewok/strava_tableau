{
  "nbformat": 4,
  "nbformat_minor": 0,
  "metadata": {
    "colab": {
      "name": "Strava Tableau.ipynb",
      "provenance": [],
      "collapsed_sections": [],
      "toc_visible": true,
      "authorship_tag": "ABX9TyNCgAMeAcU0HYzdLJQCUzzP",
      "include_colab_link": true
    },
    "kernelspec": {
      "name": "python3",
      "display_name": "Python 3"
    }
  },
  "cells": [
    {
      "cell_type": "markdown",
      "metadata": {
        "id": "view-in-github",
        "colab_type": "text"
      },
      "source": [
        "<a href=\"https://colab.research.google.com/github/bimewok/strava_tableau/blob/main/Strava_Tableau.ipynb\" target=\"_parent\"><img src=\"https://colab.research.google.com/assets/colab-badge.svg\" alt=\"Open In Colab\"/></a>"
      ]
    },
    {
      "cell_type": "markdown",
      "metadata": {
        "id": "WL9eqDPevJfR"
      },
      "source": [
        "# Creating a Tableau Dashboard of My Strava Activities\r\n",
        "Author: Ben Garrett<br>\r\n",
        "Date created: 2021-03-01<br>\r\n",
        "Last modified: 2021-03-01<br>\r\n",
        "\r\n"
      ]
    },
    {
      "cell_type": "markdown",
      "metadata": {
        "id": "TQhyANOJOp9v"
      },
      "source": [
        "# Introduction\r\n",
        "The goal of this project is to extract tabular and spatial data from my Strava account and create a meaningful map and dashboard using python and Tableau.\r\n",
        "Strava is a social network for athletes to share their physical activities with their friends and local communities. I have been using Strava for a few years and have hundreds of hikes, runs and bike rides logged on the site. Although Strava makes it easy to see a list of your activities on their app, they provide few useful maps and charts to users. Luckily, I can fix that!<br><br> \r\n",
        "www.strava.com"
      ]
    },
    {
      "cell_type": "markdown",
      "metadata": {
        "id": "smFVp49ewLhB"
      },
      "source": [
        "## About the Data\r\n",
        "\r\n",
        "The data originated from any number of apps or smarwatches. I use a Suunto GPS watch to record each activity and the watch's app sends data to Strava when I sync it to my phone. The information of interest is average speed, elevation gain, distance, duration, ect. On Strava, a typical activity upload looks like the following:\r\n",
        "<br>\r\n",
        "<br>\r\n",
        "<img src=\"https://github.com/bimewok/strava_tableau/blob/main/strava_example_upload.PNG?raw=true\" width=\"942\" height=\"867\" align=\"center\"/>\r\n",
        "<br>\r\n",
        "<br>\r\n",
        "\r\n",
        "Fortunately, Strava also allows you to bulk download your spatial and tablular data. The data comes in 40+ csv's and the spatial data comes as a single .fit  file for each activity. The end goal is a single table with all of the important tabular data and spatial data all in one place, not hundreds of files in different formats. While you can use open source tools to convert .fit files to a more typical spatial format like `.gpx` or `.shp`, I decided to tackle the problem with python in a more interesting way...\r\n",
        "\r\n",
        "\r\n"
      ]
    },
    {
      "cell_type": "markdown",
      "metadata": {
        "id": "1V3Lv4nn2dub"
      },
      "source": [
        "## Getting Activity Spatial Data With Python\r\n",
        "\r\n",
        "On Strava's webpage for each activity, there is a link to download the activity track as a easy-to-use `.gpx` file. Conveniently, the url for each activity page is predictable and reproducable if one know the activity name they want to recieve. You can use Strava's API to routinely get these files with authentication, but I found that process no simpler or quicker than making a simple request. Thus, I decided to use python to direct my browser (already logged in to my account) to download each file via the link on the activity webpage. \r\n",
        "<br>\r\n",
        "\r\n",
        "<img src=\"https://github.com/bimewok/strava_tableau/blob/main/Inkeddownload%20gpx_LI.jpg?raw=true\" width=\"301\" height=\"371\" align=\"center\"/>\r\n",
        "<br>\r\n",
        "<br>\r\n",
        "Using the `activities.csv` downloaded from the bulk download, it is easy to generate a url to make the request to get each file. Unfortunately, each file is named as the non-unique activity name, so the tricky part of the following code is finding the actively downloading file and logging its name. \r\n"
      ]
    },
    {
      "cell_type": "code",
      "metadata": {
        "id": "YSTcZFtXDLHD"
      },
      "source": [
        "import webbrowser\r\n",
        "import pandas as pd\r\n",
        "import time\r\n",
        "import numpy as np\r\n",
        "from os import listdir\r\n",
        "import os.path\r\n",
        "\r\n",
        "save_path = r'C:\\garrett_workspace\\tableau\\strava_dashboard\\gpx'\r\n",
        "chrome_path = r'C:\\Program Files\\Google\\Chrome\\Application\\chrome.exe'\r\n",
        "webbrowser.register('chrome', None,webbrowser.BackgroundBrowser(chrome_path))\r\n",
        "\r\n",
        "activity_data = pd.read_csv(r'C:\\garrett_workspace\\Strava_Backup_Data\\activities.csv')\r\n",
        "activity_data['gpx_filepath'] = np.nan\r\n",
        "\r\n",
        "full_file_names = []\r\n",
        "\r\n",
        "for i in range(len(activity_data)):\r\n",
        "    if activity_data['Filename'][i] != np.nan:\r\n",
        "        activity_id = int(activity_data['Activity ID'][i])\r\n",
        "        url = 'https://www.strava.com/activities/{}/export_gpx'.format(activity_id)\r\n",
        "        webbrowser.get('chrome').open_new_tab(url)\r\n",
        "        time.sleep(15)\r\n",
        "        '''the following loop checks to see if the file has finished downloading\r\n",
        "        to ensure only one file gets downloaded at a time.'''\r\n",
        "        for z in range(1, 30000):\r\n",
        "            files = listdir(save_path)\r\n",
        "            for x in files:\r\n",
        "                if 'Unconfirmed' in x:\r\n",
        "                    time.sleep(1)\r\n",
        "                else:\r\n",
        "                    pass\r\n",
        "\r\n",
        "        for file in files:\r\n",
        "            full_file_names.append(save_path+'\\{}'.format(file))\r\n",
        "        latest_file = max(full_file_names, key=os.path.getctime)\r\n",
        "        activity_data.loc[i, 'gpx_filepath'] = str(latest_file)\r\n",
        "        \r\n",
        "activity_data.to_csv(r'C:\\garrett_workspace\\Strava_Backup_Data\\activities.csv')"
      ],
      "execution_count": null,
      "outputs": []
    },
    {
      "cell_type": "markdown",
      "metadata": {
        "id": "5Uw65BdiFCzt"
      },
      "source": [
        "## Combining Data Into One Format\r\n",
        "\r\n",
        "Now that I have all of the tabluar activity data and their associated .gpx files, the next step is to combine them into one format where all attributes can live. The best file format for this is the shapefile, which contains a database table and spatial information in a format that all GIS software and many database tools can read (PostgreSQL via PostGIS, Tableau, many others). To convert the files, the python library `gpxpy` can parse the gpx files and `geopandas` (includes `shapely`) can write the shapefile. The general workflow is this:<br>\r\n",
        "- open each gpx\r\n",
        "- pull out each point (coordinate pair of vertice on line), add all points to a shaply linestring object, append object into geopandas geodataframe.\r\n",
        "- save shapefile via geopandas (and manually write a .prj file containing spatial projection information)"
      ]
    },
    {
      "cell_type": "code",
      "metadata": {
        "id": "TMZPbARbH0Wd"
      },
      "source": [
        "import gpxpy\r\n",
        "import pandas as pd\r\n",
        "import geopandas as gpd\r\n",
        "from shapely.geometry import LineString\r\n",
        "\r\n",
        "tabular = pd.read_csv(r'C:\\garrett_workspace\\tableau\\strava_dashboard\\activities.csv')\r\n",
        "\r\n",
        "geo_dataframe = gpd.GeoDataFrame(tabular)\r\n",
        "geo_dataframe['geometry'] = None\r\n",
        "\r\n",
        "for index in range(len(geo_dataframe)):\r\n",
        "    filepath = geo_dataframe['gpx_filepath'][index]\r\n",
        "    file = open(filepath, 'r')\r\n",
        "    gpx = gpxpy.parse(file)\r\n",
        "    \r\n",
        "    points = []\r\n",
        "    \r\n",
        "    for track in gpx.tracks:\r\n",
        "        for segment in track.segments:\r\n",
        "            for point in segment.points:\r\n",
        "                points.append(tuple([point.longitude, point.latitude]))\r\n",
        "                \r\n",
        "    line = LineString(points)\r\n",
        "    geo_dataframe.loc[index, 'geometry'] = line\r\n",
        "    print(index+1,'files parsed.')    \r\n",
        "    \r\n",
        "\r\n",
        "geo_dataframe.to_file(r'C:\\garrett_workspace\\tableau\\strava_dashboard\\strava_dashboard.shp')\r\n",
        "\r\n",
        "crs_to_write = \"\"\"GEOGCS[\"GCS_WGS_1984\",DATUM[\"D_WGS_1984\",SPHEROID[\"WGS_1984\",6378137,298.257223563]],PRIMEM[\"Greenwich\",0],UNIT[\"Degree\",0.017453292519943295]]\"\"\"\r\n",
        "\r\n",
        "with open(r'C:\\garrett_workspace\\tableau\\strava_dashboard\\{}.prj'.format('strava_dashboard'), 'w') as file:\r\n",
        "    file.write(crs_to_write)"
      ],
      "execution_count": null,
      "outputs": []
    },
    {
      "cell_type": "markdown",
      "metadata": {
        "id": "hleqUr4CIQgC"
      },
      "source": [
        "## Cleaning up the Data\r\n",
        "\r\n",
        "The data provided by Strava can use a bit of tidying. Needed transforms include converting units to imperial, time fields to hours, dealing with some null values."
      ]
    },
    {
      "cell_type": "code",
      "metadata": {
        "id": "xSjp5f6VJVKH"
      },
      "source": [
        "import geopandas as gpd\r\n",
        "import pandas as pd\r\n",
        "\r\n",
        "data = gpd.read_file(r'C:\\garrett_workspace\\tableau\\strava_dashboard\\strava_dashboard.shp')\r\n",
        "\r\n",
        "data = data[['Activity I', 'Activity D', 'Activity N', 'Activity T', 'Elapsed Ti', \r\n",
        "             'Distance', 'Moving Tim', 'Average Sp',\r\n",
        "             'Elevation', 'Elevatio_1', 'Elevatio_2', 'Elevatio_3', 'Calories', 'geometry']]\r\n",
        "\r\n",
        "data.columns = ['id', 'date', 'name', 'type', 'duration', 'distance', 'moving_time', \r\n",
        "                'avg_speed', 'elev_gain', 'elev_1', 'elev_2', 'elev_3', 'calories', 'geometry']\r\n",
        "\r\n",
        "# shapefiles need datetime's as strings\r\n",
        "data['date'] = (pd.to_datetime(data['date'])).astype('str')\r\n",
        "# seconds to decimal hours\r\n",
        "data['duration'] = data['duration'] / 60 / 60\r\n",
        "# kms to miles\r\n",
        "data['distance'] = data['distance'] * 0.6213\r\n",
        "# seconds to decimal hours\r\n",
        "data['moving_time'] = data['moving_time'] / 60 / 60\r\n",
        "# I can't figure out what units are in this field so I recalculated avg_speed\r\n",
        "data['avg_speed'] = data['distance'] / data['moving_time']\r\n",
        "# using my personal knowledge of these activities, I was able to figure out how\r\n",
        "# to use these elev fields\r\n",
        "data['elev_gain'] = data['elev_gain'].fillna(data['elev_3'] - data['elev_2']).fillna(0)\r\n",
        "\r\n",
        "data = data.drop(['elev_1', 'elev_2', 'elev_3'], axis=1)\r\n",
        "# meters to feet\r\n",
        "data['elev_gain'] = (data['elev_gain'] * 3.28).astype('int')\r\n",
        "\r\n",
        "filename = 'activities_data'\r\n",
        "\r\n",
        "data.to_file(r'C:\\garrett_workspace\\tableau\\strava_dashboard\\{}.shp'.format(filename))\r\n",
        "# could rename the old projection file but this is just as easy\r\n",
        "crs_to_write = \"\"\"GEOGCS[\"GCS_WGS_1984\",DATUM[\"D_WGS_1984\",SPHEROID[\"WGS_1984\",6378137,298.257223563]],PRIMEM[\"Greenwich\",0],UNIT[\"Degree\",0.017453292519943295]]\"\"\"\r\n",
        "\r\n",
        "with open(r'C:\\garrett_workspace\\tableau\\strava_dashboard\\{}.prj'.format(filename), 'w') as file:\r\n",
        "    file.write(crs_to_write)"
      ],
      "execution_count": null,
      "outputs": []
    },
    {
      "cell_type": "markdown",
      "metadata": {
        "id": "D_2Tlw1IKihF"
      },
      "source": [
        "## Load Data into Tabeau\r\n",
        "Far too easy!<br>\r\n",
        "<br>\r\n",
        "\r\n",
        "<img src=\"https://github.com/bimewok/strava_tableau/blob/main/add_spatial_file.png?raw=true\" width=\"318\" height=\"313\" align=\"center\"/>\r\n",
        "<br>\r\n",
        "<br>\r\n"
      ]
    },
    {
      "cell_type": "markdown",
      "metadata": {
        "id": "oWkWQWjAMMo9"
      },
      "source": [
        "## Build a Dashboard\r\n",
        "\r\n",
        "The rest of the data manipulation can easily be done within Tableau. My activities contain millions of coordinate points which can slow down the queries in the final dashboard. To fix this, you can resample the points and remove x out of every z points to reduce the size. As long as the resampling rate isn't too large, the end user wouldn't notice much detail loss in the map. Below is a simple way to do that in python:"
      ]
    },
    {
      "cell_type": "code",
      "metadata": {
        "id": "MKCqLCIMM-Ti"
      },
      "source": [
        "import geopandas as gpd\r\n",
        "\r\n",
        "data = gpd.read_file(r'C:\\garrett_workspace\\tableau\\strava_dashboard\\activities_data.shp')\r\n",
        "\r\n",
        "resample_factor = 4\r\n",
        "\r\n",
        "for row in range(len(data)):\r\n",
        "    '''the try - except block is because I added dummy null rows to represent weeks\r\n",
        "    that I had no activities, thus these rows have no geometry...'''\r\n",
        "    try:\r\n",
        "        linestring = data['geometry'][row]\r\n",
        "        simplified_points = []\r\n",
        "        for i in range(len(linestring.coords)):\r\n",
        "            coord = linestring.coords[i]\r\n",
        "            if i % resample_factor == 0:\r\n",
        "                simplified_points.append(coord)\r\n",
        "        data['geometry'][row].coords = simplified_points\r\n",
        "    except: \r\n",
        "        pass\r\n",
        "    \r\n",
        "data.to_file(r'C:\\garrett_workspace\\tableau\\strava_dashboard\\{}.shp'.format('activities_data'))"
      ],
      "execution_count": null,
      "outputs": []
    },
    {
      "cell_type": "markdown",
      "metadata": {
        "id": "1i_Lz9tJNdOE"
      },
      "source": [
        "# The Dashboard!\r\n",
        "\r\n",
        "The dashboard can be found on Tableau Public here:\r\n",
        "https://public.tableau.com/profile/ben.garrett#!/vizhome/StravaVisualization/MyStravaData\r\n",
        "\r\n"
      ]
    }
  ]
}